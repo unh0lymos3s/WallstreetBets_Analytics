{
 "cells": [
  {
   "cell_type": "code",
   "execution_count": 1,
   "id": "58c565fd",
   "metadata": {},
   "outputs": [],
   "source": [
    "import pyspark\n",
    "from pyspark.sql import  SparkSession, SQLContext\n",
    "from pyspark import SparkContext\n",
    "import matplotlib.pyplot as plt\n",
    "import seaborn as sns\n",
    "from pyspark.sql.functions import desc, max, avg, col, when, explode\n",
    "import pandas as pd\n",
    "from pyspark.ml.feature import VectorAssembler"
   ]
  },
  {
   "cell_type": "code",
   "execution_count": 2,
   "id": "586f5687",
   "metadata": {},
   "outputs": [],
   "source": [
    "conf = pyspark.SparkConf().set('spark.jars.packages','org.mongodb.spark:mongo-spark-connector_2.12:3.0.1').setMaster('local').setAppName('mongoJSON').setAll([('spark.drover.memory','40g'),('spark.executor.memory','50g')])"
   ]
  },
  {
   "cell_type": "code",
   "execution_count": 3,
   "id": "52c963b8",
   "metadata": {},
   "outputs": [],
   "source": [
    "spark = SparkSession.builder.config(conf=conf).getOrCreate()\n"
   ]
  },
  {
   "cell_type": "markdown",
   "id": "129df716",
   "metadata": {},
   "source": [
    "<h1><i>Data Loading"
   ]
  },
  {
   "cell_type": "code",
   "execution_count": 4,
   "id": "7ce1f33f",
   "metadata": {},
   "outputs": [],
   "source": [
    "mongo_ip=\"mongodb://localhost:27017/Reddit.\""
   ]
  },
  {
   "cell_type": "code",
   "execution_count": 5,
   "id": "d49d384f",
   "metadata": {},
   "outputs": [],
   "source": [
    "df = spark.read.format('com.mongodb.spark.sql.DefaultSource').option('uri', mongo_ip+'wsb' ).load()"
   ]
  },
  {
   "cell_type": "markdown",
   "id": "aa128a68",
   "metadata": {},
   "source": [
    "<h1><i>Analytics"
   ]
  },
  {
   "cell_type": "code",
   "execution_count": 6,
   "id": "392f283a",
   "metadata": {},
   "outputs": [
    {
     "name": "stdout",
     "output_type": "stream",
     "text": [
      "root\n",
      " |-- _id: struct (nullable = true)\n",
      " |    |-- oid: string (nullable = true)\n",
      " |-- body: string (nullable = true)\n",
      " |-- comms_num: integer (nullable = true)\n",
      " |-- created: double (nullable = true)\n",
      " |-- id: string (nullable = true)\n",
      " |-- score: integer (nullable = true)\n",
      " |-- timestamp: string (nullable = true)\n",
      " |-- title: string (nullable = true)\n",
      " |-- url: string (nullable = true)\n",
      "\n"
     ]
    }
   ],
   "source": [
    "df.printSchema()"
   ]
  },
  {
   "cell_type": "code",
   "execution_count": 7,
   "id": "04bf3fd2",
   "metadata": {},
   "outputs": [
    {
     "data": {
      "text/plain": [
       "DataFrame[_id: struct<oid:string>, body: string, comms_num: int, created: double, id: string, score: int, timestamp: string, title: string, url: string]"
      ]
     },
     "execution_count": 7,
     "metadata": {},
     "output_type": "execute_result"
    }
   ],
   "source": [
    "df.na.drop(how = 'any')"
   ]
  },
  {
   "cell_type": "code",
   "execution_count": 8,
   "id": "bad27012",
   "metadata": {},
   "outputs": [
    {
     "name": "stdout",
     "output_type": "stream",
     "text": [
      "+--------------------+----+---------+-------------+------+------+-------------------+--------------------+--------------------+\n",
      "|                 _id|body|comms_num|      created|    id| score|          timestamp|               title|                 url|\n",
      "+--------------------+----+---------+-------------+------+------+-------------------+--------------------+--------------------+\n",
      "|{664ec9bef302b656...|NULL|    11554|1.612058438E9|l8rf4k|348241|2021-01-31 04:00:38|Times Square righ...|https://v.redd.it...|\n",
      "|{664ec9bdf302b656...|NULL|    23309|1.611896783E9|l78uct|225870|2021-01-29 07:06:23|GME YOLO update —...|https://i.redd.it...|\n",
      "|{664ec9bdf302b656...|NULL|    20105|1.611983085E9|l846a1|219779|2021-01-30 07:04:45|GME YOLO month-en...|https://i.redd.it...|\n",
      "|{664ec9bff302b656...|NULL|    12846|1.613797555E9|lnqgz8|201168|2021-02-20 07:05:55|GME YOLO update —...|https://i.redd.it...|\n",
      "|{664ec9bdf302b656...|NULL|     4523|1.611992459E9|l881ia|195782|2021-01-30 09:40:59|   It’s treason then|https://i.redd.it...|\n",
      "|{664ec9bdf302b656...|NULL|     6785| 1.61200402E9|l8c0u4|192980|2021-01-30 12:53:40|Used some of my G...|https://www.nbcdf...|\n",
      "|{664ec9bff302b656...|NULL|     3849| 1.61276753E9|lexy8t|191380|2021-02-08 08:58:50|Wow super bowl co...|https://i.redd.it...|\n",
      "|{664ec9bdf302b656...|NULL|     4603|1.611995075E9|l890i7|175665|2021-01-30 10:24:35|That’s what I tho...|https://i.redd.it...|\n",
      "|{664ec9bdf302b656...|NULL|     5211|1.611912958E9|l7feld|174401|2021-01-29 11:35:58|IT'S POWER TO THE...|https://v.redd.it...|\n",
      "|{664ec9bdf302b656...|NULL|     3633|1.612083863E9|l90oq6|171778|2021-01-31 11:04:23|I am proud to do ...|https://i.redd.it...|\n",
      "+--------------------+----+---------+-------------+------+------+-------------------+--------------------+--------------------+\n",
      "\n"
     ]
    }
   ],
   "source": [
    "top_10 = df.orderBy(desc('score')).limit(10)\n",
    "top_10.show()"
   ]
  },
  {
   "cell_type": "code",
   "execution_count": 9,
   "id": "e6a81abf",
   "metadata": {},
   "outputs": [],
   "source": [
    "top_10_pd = top_10.toPandas()"
   ]
  },
  {
   "cell_type": "code",
   "execution_count": 10,
   "id": "847388a2",
   "metadata": {},
   "outputs": [],
   "source": [
    "engagement_per_post = df.select('id','score','comms_num').orderBy(desc('score')).limit(10)"
   ]
  },
  {
   "cell_type": "markdown",
   "id": "48dc1c19",
   "metadata": {},
   "source": [
    "<h1><i>Engagement per Post Analysis"
   ]
  },
  {
   "cell_type": "code",
   "execution_count": 11,
   "id": "e2d26247",
   "metadata": {},
   "outputs": [
    {
     "name": "stdout",
     "output_type": "stream",
     "text": [
      "+------+------+---------+\n",
      "|    id| score|comms_num|\n",
      "+------+------+---------+\n",
      "|l8rf4k|348241|    11554|\n",
      "|l78uct|225870|    23309|\n",
      "|l846a1|219779|    20105|\n",
      "|lnqgz8|201168|    12846|\n",
      "|l881ia|195782|     4523|\n",
      "|l8c0u4|192980|     6785|\n",
      "|lexy8t|191380|     3849|\n",
      "|l890i7|175665|     4603|\n",
      "|l7feld|174401|     5211|\n",
      "|l90oq6|171778|     3633|\n",
      "+------+------+---------+\n",
      "\n"
     ]
    }
   ],
   "source": [
    "engagement_per_post.show()"
   ]
  },
  {
   "cell_type": "code",
   "execution_count": 12,
   "id": "0d4399a2",
   "metadata": {},
   "outputs": [],
   "source": [
    "vector_columns = 'features'\n",
    "assembler = VectorAssembler(inputCols = ['score', 'comms_num'],outputCol = vector_columns)"
   ]
  },
  {
   "cell_type": "code",
   "execution_count": 13,
   "id": "2ab5791f",
   "metadata": {},
   "outputs": [],
   "source": [
    "df_vector = assembler.transform(df.select('score','comms_num')).select(vector_columns)"
   ]
  },
  {
   "cell_type": "code",
   "execution_count": 14,
   "id": "f816822c",
   "metadata": {},
   "outputs": [],
   "source": [
    "from pyspark.ml.stat import Correlation\n",
    "\n",
    "corr_matrix = Correlation.corr(df_vector, vector_columns).head()[0]"
   ]
  },
  {
   "cell_type": "markdown",
   "id": "404be04d",
   "metadata": {},
   "source": [
    "<h1><i>Correlation Matrix"
   ]
  },
  {
   "cell_type": "code",
   "execution_count": 15,
   "id": "8df6e1d6",
   "metadata": {},
   "outputs": [
    {
     "name": "stdout",
     "output_type": "stream",
     "text": [
      "corr_matrix :\n",
      "DenseMatrix([[1.        , 0.19002685],\n",
      "             [0.19002685, 1.        ]])\n"
     ]
    }
   ],
   "source": [
    "print('corr_matrix :\\n'+str(corr_matrix))"
   ]
  },
  {
   "cell_type": "code",
   "execution_count": null,
   "id": "f34d3f09",
   "metadata": {},
   "outputs": [],
   "source": []
  },
  {
   "cell_type": "code",
   "execution_count": 16,
   "id": "0c46f5d4",
   "metadata": {},
   "outputs": [],
   "source": [
    "from pyspark.ml.feature import Tokenizer, StopWordsRemover"
   ]
  },
  {
   "cell_type": "code",
   "execution_count": 17,
   "id": "f849d2d7",
   "metadata": {},
   "outputs": [],
   "source": [
    "tokenizer = Tokenizer(inputCol = 'title', outputCol = 'title_words')"
   ]
  },
  {
   "cell_type": "code",
   "execution_count": 18,
   "id": "14c97fa1",
   "metadata": {},
   "outputs": [],
   "source": [
    "df = tokenizer.transform(df)"
   ]
  },
  {
   "cell_type": "code",
   "execution_count": 19,
   "id": "c209465c",
   "metadata": {},
   "outputs": [],
   "source": [
    "remover = StopWordsRemover(inputCol=\"title_words\", outputCol=\"filtered_title_words\")\n"
   ]
  },
  {
   "cell_type": "code",
   "execution_count": 20,
   "id": "2a33bce7",
   "metadata": {},
   "outputs": [],
   "source": [
    "df = remover.transform(df)"
   ]
  },
  {
   "cell_type": "code",
   "execution_count": 21,
   "id": "f562a476",
   "metadata": {},
   "outputs": [],
   "source": [
    "word_counts = df.withColumn('word', explode(col('filtered_title_words')))\\\n",
    "                .groupBy('word').count()\\\n",
    "                .orderBy(desc('count'))"
   ]
  },
  {
   "cell_type": "markdown",
   "id": "a85e81f4",
   "metadata": {},
   "source": [
    "<h1><i>Word Frequency Distribution Analysis"
   ]
  },
  {
   "cell_type": "code",
   "execution_count": 22,
   "id": "ee2c82ff",
   "metadata": {},
   "outputs": [
    {
     "name": "stdout",
     "output_type": "stream",
     "text": [
      "+---------+-----+\n",
      "|     word|count|\n",
      "+---------+-----+\n",
      "|      gme| 5924|\n",
      "|      buy| 3665|\n",
      "|        -| 3597|\n",
      "|     hold| 2538|\n",
      "|robinhood| 2469|\n",
      "|      amc| 2316|\n",
      "|    still| 1979|\n",
      "|     yolo| 1735|\n",
      "|     like| 1734|\n",
      "|  holding| 1620|\n",
      "|    stock| 1591|\n",
      "|       🚀| 1485|\n",
      "|    short| 1408|\n",
      "|   shares| 1405|\n",
      "|   bought| 1401|\n",
      "|      get| 1384|\n",
      "|    going| 1368|\n",
      "|       go| 1182|\n",
      "|     moon| 1141|\n",
      "|     sell| 1133|\n",
      "+---------+-----+\n",
      "only showing top 20 rows\n",
      "\n"
     ]
    }
   ],
   "source": [
    "word_counts.show()"
   ]
  },
  {
   "cell_type": "markdown",
   "id": "eceecf22",
   "metadata": {},
   "source": [
    "<h1><i>Classification (popularity)"
   ]
  },
  {
   "cell_type": "code",
   "execution_count": 23,
   "id": "279ea999",
   "metadata": {},
   "outputs": [],
   "source": [
    "df = df.withColumn('label',when(col('score')>100,1).otherwise(0))"
   ]
  },
  {
   "cell_type": "code",
   "execution_count": 24,
   "id": "9a952fd4",
   "metadata": {},
   "outputs": [],
   "source": [
    "from pyspark.ml import Pipeline\n",
    "from pyspark.ml.classification import LogisticRegression"
   ]
  },
  {
   "cell_type": "code",
   "execution_count": 25,
   "id": "986b6f11",
   "metadata": {},
   "outputs": [],
   "source": [
    "data = df.select('comms_num','score','label')"
   ]
  },
  {
   "cell_type": "code",
   "execution_count": 26,
   "id": "058e1bc2",
   "metadata": {},
   "outputs": [],
   "source": [
    "assembler = VectorAssembler(inputCols = ['comms_num','score'], outputCol = 'features')"
   ]
  },
  {
   "cell_type": "code",
   "execution_count": 27,
   "id": "a63e9bb3",
   "metadata": {},
   "outputs": [],
   "source": [
    "log = LogisticRegression()"
   ]
  },
  {
   "cell_type": "code",
   "execution_count": 28,
   "id": "9b76cc6e",
   "metadata": {},
   "outputs": [],
   "source": [
    "pipeline = Pipeline(stages = [assembler,log])"
   ]
  },
  {
   "cell_type": "code",
   "execution_count": 29,
   "id": "99ef4f99",
   "metadata": {},
   "outputs": [],
   "source": [
    "(train,test) = data.randomSplit([0.75,0.25])"
   ]
  },
  {
   "cell_type": "code",
   "execution_count": 30,
   "id": "8d18c343",
   "metadata": {},
   "outputs": [],
   "source": [
    "model = pipeline.fit(train)"
   ]
  },
  {
   "cell_type": "code",
   "execution_count": 31,
   "id": "f6778902",
   "metadata": {},
   "outputs": [],
   "source": [
    "Predictions = model.transform(test)"
   ]
  },
  {
   "cell_type": "code",
   "execution_count": 32,
   "id": "6a99b66e",
   "metadata": {},
   "outputs": [],
   "source": [
    "from pyspark.ml.evaluation import BinaryClassificationEvaluator"
   ]
  },
  {
   "cell_type": "code",
   "execution_count": 33,
   "id": "951efe02",
   "metadata": {},
   "outputs": [],
   "source": [
    "evaluator = BinaryClassificationEvaluator( labelCol=\"label\", metricName=\"areaUnderROC\")"
   ]
  },
  {
   "cell_type": "code",
   "execution_count": 34,
   "id": "a2c43eff",
   "metadata": {},
   "outputs": [],
   "source": [
    "roc_auc = evaluator.evaluate(Predictions)\n"
   ]
  },
  {
   "cell_type": "code",
   "execution_count": 35,
   "id": "f1e7ae75",
   "metadata": {},
   "outputs": [
    {
     "name": "stdout",
     "output_type": "stream",
     "text": [
      "Test ROC AUC = 0.9999998512520339\n"
     ]
    }
   ],
   "source": [
    "print(f\"Test ROC AUC = {roc_auc}\")"
   ]
  },
  {
   "cell_type": "code",
   "execution_count": 36,
   "id": "913a7922",
   "metadata": {},
   "outputs": [],
   "source": [
    "from pyspark.ml.classification import DecisionTreeClassifier, RandomForestClassifier"
   ]
  },
  {
   "cell_type": "code",
   "execution_count": 37,
   "id": "4f4ba9cf",
   "metadata": {},
   "outputs": [],
   "source": [
    "DTC = DecisionTreeClassifier()"
   ]
  },
  {
   "cell_type": "code",
   "execution_count": 38,
   "id": "188a9595",
   "metadata": {},
   "outputs": [],
   "source": [
    "pipeline = Pipeline(stages = [assembler,DTC])"
   ]
  },
  {
   "cell_type": "code",
   "execution_count": 40,
   "id": "dee9cefb",
   "metadata": {},
   "outputs": [],
   "source": [
    "model = pipeline.fit(train)"
   ]
  },
  {
   "cell_type": "code",
   "execution_count": 41,
   "id": "60eb6793",
   "metadata": {},
   "outputs": [],
   "source": [
    "Predictions = model.transform(test)"
   ]
  },
  {
   "cell_type": "code",
   "execution_count": 42,
   "id": "9cd3608d",
   "metadata": {},
   "outputs": [],
   "source": [
    "evaluator = BinaryClassificationEvaluator( labelCol=\"label\", metricName=\"areaUnderROC\")"
   ]
  },
  {
   "cell_type": "code",
   "execution_count": 43,
   "id": "d9097dce",
   "metadata": {},
   "outputs": [],
   "source": [
    "roc_auc = evaluator.evaluate(Predictions)\n"
   ]
  },
  {
   "cell_type": "code",
   "execution_count": 44,
   "id": "ab06d65d",
   "metadata": {},
   "outputs": [
    {
     "name": "stdout",
     "output_type": "stream",
     "text": [
      "Test ROC AUC = 0.9993753701035331\n"
     ]
    }
   ],
   "source": [
    "print(f\"Test ROC AUC = {roc_auc}\")"
   ]
  },
  {
   "cell_type": "code",
   "execution_count": 49,
   "id": "a779ad9d",
   "metadata": {},
   "outputs": [],
   "source": [
    "RFC=RandomForestClassifier()"
   ]
  },
  {
   "cell_type": "code",
   "execution_count": 50,
   "id": "3264cd4b",
   "metadata": {},
   "outputs": [],
   "source": [
    "pipeline = Pipeline(stages = [assembler,RFC])"
   ]
  },
  {
   "cell_type": "code",
   "execution_count": 51,
   "id": "c77ce8bc",
   "metadata": {},
   "outputs": [],
   "source": [
    "model = pipeline.fit(train)"
   ]
  },
  {
   "cell_type": "code",
   "execution_count": 52,
   "id": "4e0bb068",
   "metadata": {},
   "outputs": [],
   "source": [
    "Predictions = model.transform(test)"
   ]
  },
  {
   "cell_type": "code",
   "execution_count": 53,
   "id": "0f12da24",
   "metadata": {},
   "outputs": [],
   "source": [
    "evaluator = BinaryClassificationEvaluator( labelCol=\"label\", metricName=\"areaUnderROC\")"
   ]
  },
  {
   "cell_type": "code",
   "execution_count": 54,
   "id": "37cc59a5",
   "metadata": {},
   "outputs": [
    {
     "name": "stdout",
     "output_type": "stream",
     "text": [
      "Test ROC AUC = 0.9996002894238759\n"
     ]
    }
   ],
   "source": [
    "roc_auc = evaluator.evaluate(Predictions)\n",
    "print(f\"Test ROC AUC = {roc_auc}\")"
   ]
  },
  {
   "cell_type": "markdown",
   "id": "95f43d18",
   "metadata": {},
   "source": [
    "<h1><i>Regression"
   ]
  },
  {
   "cell_type": "code",
   "execution_count": 58,
   "id": "02f6c6ce",
   "metadata": {},
   "outputs": [],
   "source": [
    "from pyspark.ml.regression import LinearRegression"
   ]
  },
  {
   "cell_type": "code",
   "execution_count": 59,
   "id": "5ff8233f",
   "metadata": {},
   "outputs": [
    {
     "name": "stdout",
     "output_type": "stream",
     "text": [
      "root\n",
      " |-- _id: struct (nullable = true)\n",
      " |    |-- oid: string (nullable = true)\n",
      " |-- body: string (nullable = true)\n",
      " |-- comms_num: integer (nullable = true)\n",
      " |-- created: double (nullable = true)\n",
      " |-- id: string (nullable = true)\n",
      " |-- score: integer (nullable = true)\n",
      " |-- timestamp: string (nullable = true)\n",
      " |-- title: string (nullable = true)\n",
      " |-- url: string (nullable = true)\n",
      " |-- title_words: array (nullable = true)\n",
      " |    |-- element: string (containsNull = true)\n",
      " |-- filtered_title_words: array (nullable = true)\n",
      " |    |-- element: string (containsNull = true)\n",
      " |-- label: integer (nullable = false)\n",
      "\n"
     ]
    }
   ],
   "source": [
    "df.printSchema()"
   ]
  },
  {
   "cell_type": "code",
   "execution_count": 60,
   "id": "3a11af54",
   "metadata": {},
   "outputs": [],
   "source": [
    "reg_data = df.select('label','score','comms_num')\n"
   ]
  },
  {
   "cell_type": "code",
   "execution_count": 61,
   "id": "c0a55481",
   "metadata": {},
   "outputs": [],
   "source": [
    "featureAssembler = VectorAssembler(inputCols = ['label','comms_num'], outputCol = 'independentFeatures')"
   ]
  },
  {
   "cell_type": "code",
   "execution_count": 62,
   "id": "d46a2859",
   "metadata": {},
   "outputs": [],
   "source": [
    "transformed = featureAssembler.transform(reg_data)"
   ]
  },
  {
   "cell_type": "code",
   "execution_count": 63,
   "id": "f050bae0",
   "metadata": {},
   "outputs": [
    {
     "name": "stdout",
     "output_type": "stream",
     "text": [
      "+-----+-----+---------+-------------------+\n",
      "|label|score|comms_num|independentFeatures|\n",
      "+-----+-----+---------+-------------------+\n",
      "|    0|   55|        6|          [0.0,6.0]|\n",
      "|    1|  110|       23|         [1.0,23.0]|\n",
      "|    0|    0|       47|         [0.0,47.0]|\n",
      "|    0|   29|       74|         [0.0,74.0]|\n",
      "|    0|   71|      156|        [0.0,156.0]|\n",
      "|    1|  405|       84|         [1.0,84.0]|\n",
      "|    1|  317|       53|         [1.0,53.0]|\n",
      "|    1|  405|      178|        [1.0,178.0]|\n",
      "|    1|  200|      161|        [1.0,161.0]|\n",
      "|    1|  291|       27|         [1.0,27.0]|\n",
      "|    1|  222|       70|         [1.0,70.0]|\n",
      "|    1|  562|       97|         [1.0,97.0]|\n",
      "|    0|    0|       16|         [0.0,16.0]|\n",
      "|    1|  382|       61|         [1.0,61.0]|\n",
      "|    1|  176|       32|         [1.0,32.0]|\n",
      "|    1|  240|       49|         [1.0,49.0]|\n",
      "|    1|  107|       14|         [1.0,14.0]|\n",
      "|    1|  339|       33|         [1.0,33.0]|\n",
      "|    1|  515|       41|         [1.0,41.0]|\n",
      "|    1|  841|     5942|       [1.0,5942.0]|\n",
      "+-----+-----+---------+-------------------+\n",
      "only showing top 20 rows\n",
      "\n"
     ]
    }
   ],
   "source": [
    "transformed.show()"
   ]
  },
  {
   "cell_type": "code",
   "execution_count": 64,
   "id": "e5e819bc",
   "metadata": {},
   "outputs": [],
   "source": [
    "final = transformed.select('independentFeatures','score')"
   ]
  },
  {
   "cell_type": "code",
   "execution_count": 65,
   "id": "81522e82",
   "metadata": {},
   "outputs": [],
   "source": [
    "train_data, test_data = final.randomSplit([0.75,0.25])"
   ]
  },
  {
   "cell_type": "code",
   "execution_count": 66,
   "id": "791fe3ed",
   "metadata": {},
   "outputs": [],
   "source": [
    "regressor=LinearRegression(featuresCol='independentFeatures', labelCol='score')\n",
    "regressor=regressor.fit(train_data)"
   ]
  },
  {
   "cell_type": "code",
   "execution_count": 67,
   "id": "17d7c750",
   "metadata": {},
   "outputs": [],
   "source": [
    "pred = regressor.transform(test_data)"
   ]
  },
  {
   "cell_type": "code",
   "execution_count": 68,
   "id": "33624985",
   "metadata": {},
   "outputs": [
    {
     "name": "stdout",
     "output_type": "stream",
     "text": [
      "+-------------------+-----+------------------+\n",
      "|independentFeatures|score|        prediction|\n",
      "+-------------------+-----+------------------+\n",
      "|          (2,[],[])|    0|10.211632405767425|\n",
      "|          (2,[],[])|    0|10.211632405767425|\n",
      "|          (2,[],[])|    0|10.211632405767425|\n",
      "|          (2,[],[])|    0|10.211632405767425|\n",
      "|          (2,[],[])|    0|10.211632405767425|\n",
      "|          (2,[],[])|    0|10.211632405767425|\n",
      "|          (2,[],[])|    0|10.211632405767425|\n",
      "|          (2,[],[])|    0|10.211632405767425|\n",
      "|          (2,[],[])|    0|10.211632405767425|\n",
      "|          (2,[],[])|    0|10.211632405767425|\n",
      "|          (2,[],[])|    0|10.211632405767425|\n",
      "|          (2,[],[])|    0|10.211632405767425|\n",
      "|          (2,[],[])|    0|10.211632405767425|\n",
      "|          (2,[],[])|    0|10.211632405767425|\n",
      "|          (2,[],[])|    0|10.211632405767425|\n",
      "|          (2,[],[])|    0|10.211632405767425|\n",
      "|          (2,[],[])|    0|10.211632405767425|\n",
      "|          (2,[],[])|    0|10.211632405767425|\n",
      "|          (2,[],[])|    0|10.211632405767425|\n",
      "|          (2,[],[])|    0|10.211632405767425|\n",
      "+-------------------+-----+------------------+\n",
      "only showing top 20 rows\n",
      "\n"
     ]
    }
   ],
   "source": [
    "pred.show()"
   ]
  },
  {
   "cell_type": "code",
   "execution_count": 69,
   "id": "c7cbb629",
   "metadata": {},
   "outputs": [],
   "source": [
    "result = regressor.evaluate(test_data)"
   ]
  },
  {
   "cell_type": "code",
   "execution_count": 70,
   "id": "88da465a",
   "metadata": {},
   "outputs": [
    {
     "data": {
      "text/plain": [
       "0.0836542698097793"
      ]
     },
     "execution_count": 70,
     "metadata": {},
     "output_type": "execute_result"
    }
   ],
   "source": [
    "result.r2"
   ]
  },
  {
   "cell_type": "code",
   "execution_count": 71,
   "id": "3dc601ed",
   "metadata": {},
   "outputs": [],
   "source": [
    "from pyspark.ml.regression import DecisionTreeRegressor, RandomForestRegressor"
   ]
  },
  {
   "cell_type": "code",
   "execution_count": 103,
   "id": "b2d75a09",
   "metadata": {},
   "outputs": [],
   "source": [
    "regressor=DecisionTreeRegressor(featuresCol='independentFeatures', labelCol='score')\n",
    "regressor=regressor.fit(train_data)"
   ]
  },
  {
   "cell_type": "code",
   "execution_count": 104,
   "id": "4dcae810",
   "metadata": {},
   "outputs": [],
   "source": [
    "pred = regressor.transform(test_data)"
   ]
  },
  {
   "cell_type": "code",
   "execution_count": 105,
   "id": "b473a1a7",
   "metadata": {},
   "outputs": [
    {
     "name": "stdout",
     "output_type": "stream",
     "text": [
      "+-------------------+-----+-----------------+\n",
      "|independentFeatures|score|       prediction|\n",
      "+-------------------+-----+-----------------+\n",
      "|          (2,[],[])|    0|7.481117200991066|\n",
      "|          (2,[],[])|    0|7.481117200991066|\n",
      "|          (2,[],[])|    0|7.481117200991066|\n",
      "|          (2,[],[])|    0|7.481117200991066|\n",
      "|          (2,[],[])|    0|7.481117200991066|\n",
      "|          (2,[],[])|    0|7.481117200991066|\n",
      "|          (2,[],[])|    0|7.481117200991066|\n",
      "|          (2,[],[])|    0|7.481117200991066|\n",
      "|          (2,[],[])|    0|7.481117200991066|\n",
      "|          (2,[],[])|    0|7.481117200991066|\n",
      "|          (2,[],[])|    0|7.481117200991066|\n",
      "|          (2,[],[])|    0|7.481117200991066|\n",
      "|          (2,[],[])|    0|7.481117200991066|\n",
      "|          (2,[],[])|    0|7.481117200991066|\n",
      "|          (2,[],[])|    0|7.481117200991066|\n",
      "|          (2,[],[])|    0|7.481117200991066|\n",
      "|          (2,[],[])|    0|7.481117200991066|\n",
      "|          (2,[],[])|    0|7.481117200991066|\n",
      "|          (2,[],[])|    0|7.481117200991066|\n",
      "|          (2,[],[])|    0|7.481117200991066|\n",
      "+-------------------+-----+-----------------+\n",
      "only showing top 20 rows\n",
      "\n"
     ]
    }
   ],
   "source": [
    "pred.show()"
   ]
  },
  {
   "cell_type": "code",
   "execution_count": 106,
   "id": "7b9784de",
   "metadata": {},
   "outputs": [],
   "source": [
    "from pyspark.ml.evaluation import RegressionEvaluator"
   ]
  },
  {
   "cell_type": "code",
   "execution_count": 107,
   "id": "f1610e18",
   "metadata": {},
   "outputs": [
    {
     "name": "stdout",
     "output_type": "stream",
     "text": [
      " R2 ): 0.4268834945013483\n"
     ]
    }
   ],
   "source": [
    "\n",
    "evaluator = RegressionEvaluator(predictionCol=\"prediction\", labelCol=\"score\", metricName=\"r2\")\n",
    "r2 = evaluator.evaluate(pred)\n",
    "print(f\" R2 ): {r2}\")"
   ]
  },
  {
   "cell_type": "code",
   "execution_count": 98,
   "id": "a2a54fa9",
   "metadata": {},
   "outputs": [],
   "source": [
    "regressor=RandomForestRegressor(featuresCol='independentFeatures', labelCol='score')\n",
    "regressor=regressor.fit(train_data)"
   ]
  },
  {
   "cell_type": "code",
   "execution_count": 99,
   "id": "40b5dfa9",
   "metadata": {},
   "outputs": [],
   "source": [
    "pred = regressor.transform(test_data)"
   ]
  },
  {
   "cell_type": "code",
   "execution_count": 101,
   "id": "6da8230e",
   "metadata": {},
   "outputs": [
    {
     "name": "stdout",
     "output_type": "stream",
     "text": [
      " R2 ): 0.4071249217101993\n"
     ]
    }
   ],
   "source": [
    "evaluator = RegressionEvaluator(predictionCol=\"prediction\", labelCol=\"score\", metricName=\"r2\")\n",
    "r2 = evaluator.evaluate(pred)\n",
    "print(f\" R2 ): {r2}\")"
   ]
  }
 ],
 "metadata": {
  "kernelspec": {
   "display_name": "Python 3 (ipykernel)",
   "language": "python",
   "name": "python3"
  },
  "language_info": {
   "codemirror_mode": {
    "name": "ipython",
    "version": 3
   },
   "file_extension": ".py",
   "mimetype": "text/x-python",
   "name": "python",
   "nbconvert_exporter": "python",
   "pygments_lexer": "ipython3",
   "version": "3.11.4"
  }
 },
 "nbformat": 4,
 "nbformat_minor": 5
}
